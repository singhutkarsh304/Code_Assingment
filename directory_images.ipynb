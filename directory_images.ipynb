{
 "cells": [
  {
   "cell_type": "code",
   "execution_count": 1,
   "metadata": {},
   "outputs": [],
   "source": [
    "import os"
   ]
  },
  {
   "cell_type": "code",
   "execution_count": 15,
   "metadata": {},
   "outputs": [
    {
     "name": "stdout",
     "output_type": "stream",
     "text": [
      "C:\\Users\\utkarsh\\Desktop\\Images\n"
     ]
    }
   ],
   "source": [
    "cwd = os.getcwd()\n",
    "print(cwd)"
   ]
  },
  {
   "cell_type": "code",
   "execution_count": 5,
   "metadata": {},
   "outputs": [
    {
     "name": "stdout",
     "output_type": "stream",
     "text": [
      "16uec091_Exp-3\n",
      "16uec117_Exp8\n",
      "16uec117_Exp9\n",
      "16uec117_lab4\n",
      "16uec117_quantization\n",
      "3D Objects\n",
      "Anaconda3\n",
      "AppData\n",
      "Application Data\n",
      "Blynk_Release_v0.5.3 (1)\n",
      "Classify_Image.ipynb\n",
      "Contacts\n",
      "Cookies\n",
      "Desktop\n",
      "Documents\n",
      "Downloads\n",
      "Favorites\n",
      "Getting_Started_With_Google_Collab.ipynb\n",
      "IntelGraphicsProfiles\n",
      "LAB7_16uec117\n",
      "Links\n",
      "Local Settings\n",
      "MicrosoftEdgeBackups\n",
      "Model_script.ipynb\n",
      "Music\n",
      "My Documents\n",
      "NTUSER.DAT\n",
      "NTUSER.DAT{405e0c9f-5394-11e8-ac51-dfefc57bda6f}.TxR.0.regtrans-ms\n",
      "NTUSER.DAT{405e0c9f-5394-11e8-ac51-dfefc57bda6f}.TxR.1.regtrans-ms\n",
      "NTUSER.DAT{405e0c9f-5394-11e8-ac51-dfefc57bda6f}.TxR.2.regtrans-ms\n",
      "NTUSER.DAT{405e0c9f-5394-11e8-ac51-dfefc57bda6f}.TxR.blf\n",
      "NTUSER.DAT{405e0ca0-5394-11e8-ac51-dfefc57bda6f}.TM.blf\n",
      "NTUSER.DAT{405e0ca0-5394-11e8-ac51-dfefc57bda6f}.TMContainer00000000000000000001.regtrans-ms\n",
      "NTUSER.DAT{405e0ca0-5394-11e8-ac51-dfefc57bda6f}.TMContainer00000000000000000002.regtrans-ms\n",
      "NetHood\n",
      "OneDrive\n",
      "Pictures\n",
      "PrintHood\n",
      "Python35\n",
      "REACHit\n",
      "Recent\n",
      "Roaming\n",
      "Saved Games\n",
      "Searches\n",
      "SendTo\n",
      "Start Menu\n",
      "Templates\n",
      "Untitled.ipynb\n",
      "Untitled1.ipynb\n",
      "Untitled2.ipynb\n",
      "Untitled3.ipynb\n",
      "Untitled4.ipynb\n",
      "Untitled5.ipynb\n",
      "Videos\n",
      "bluej\n",
      "microaneurysm.py\n",
      "ntuser.dat.LOG1\n",
      "ntuser.dat.LOG2\n",
      "ntuser.ini\n"
     ]
    }
   ],
   "source": [
    "!ls"
   ]
  },
  {
   "cell_type": "code",
   "execution_count": 6,
   "metadata": {},
   "outputs": [],
   "source": [
    "os.chdir('Desktop')"
   ]
  },
  {
   "cell_type": "code",
   "execution_count": 7,
   "metadata": {},
   "outputs": [
    {
     "name": "stdout",
     "output_type": "stream",
     "text": [
      "1049384-gorgerous-hanuman-wallpapers-1920x1080-notebook.jpg\n",
      "Arduino 1.8.2\n",
      "Aru\n",
      "BANK.jpg\n",
      "BlueJ.lnk\n",
      "Blynk.lnk\n",
      "College\n",
      "ESP8266 Wifi Control.lnk\n",
      "FIFA18.exe - Shortcut.lnk\n",
      "Internet Download Manager.lnk\n",
      "Internship\n",
      "Lenovo App Explorer.lnk\n",
      "Mere Rashke Qamar Tu Ne Pehli Nazar - By Junaid Asghar.mp4\n",
      "Microsoft Edge.lnk\n",
      "Mini-Project(SmartHome)_FinalReport.pdf\n",
      "NIT Silchar\n",
      "Net-Bank.jpg\n",
      "New folder\n",
      "PAN.jpg\n",
      "Paddy_project\n",
      "Phone\n",
      "Sun mere humsafar he tujhe itni si bhi khabar.mp4\n",
      "Swachh Bharat Report_16UEC117_16UCC053 (1).pdf\n",
      "Swachh Bharat Report_16UEC117_16UCC053.docx\n",
      "TATA_Project\n",
      "Whatsapp\n",
      "Windows 10 Upgrade Assistant.lnk\n",
      "arduino - Shortcut.lnk\n",
      "desk1.jpg\n",
      "desktop.ini\n",
      "ellei1.jpg\n",
      "emma.jpg\n",
      "fifa15 - Shortcut.lnk\n",
      "fundusdeeplearning\n",
      "fundusdeeplearning.zip\n",
      "images\n",
      "kristen-stewart.jpg\n",
      "lusip.txt\n",
      "matlab.exe - Shortcut.lnk\n",
      "sublime_text.exe - Shortcut.lnk\n",
      "test.py\n"
     ]
    }
   ],
   "source": [
    "!ls"
   ]
  },
  {
   "cell_type": "code",
   "execution_count": 8,
   "metadata": {},
   "outputs": [],
   "source": [
    "os.chdir('Images')"
   ]
  },
  {
   "cell_type": "code",
   "execution_count": 10,
   "metadata": {},
   "outputs": [
    {
     "name": "stdout",
     "output_type": "stream",
     "text": [
      "IMG_1497_raw.jpg\n",
      "IMG_20170901_005905.jpg\n",
      "images.png\n",
      "p1.jpg\n",
      "raw_shi.jpg\n"
     ]
    }
   ],
   "source": [
    "!ls\n"
   ]
  },
  {
   "cell_type": "code",
   "execution_count": 11,
   "metadata": {},
   "outputs": [],
   "source": [
    "direc_list=os.listdir()"
   ]
  },
  {
   "cell_type": "code",
   "execution_count": 13,
   "metadata": {},
   "outputs": [
    {
     "name": "stdout",
     "output_type": "stream",
     "text": [
      "IMG_1497_raw.jpg\n",
      "raw_shi.jpg\n"
     ]
    }
   ],
   "source": [
    "for image in direc_list:\n",
    "    if \"raw\" in image:\n",
    "        print(image)"
   ]
  },
  {
   "cell_type": "code",
   "execution_count": null,
   "metadata": {},
   "outputs": [],
   "source": []
  }
 ],
 "metadata": {
  "kernelspec": {
   "display_name": "Python 3",
   "language": "python",
   "name": "python3"
  },
  "language_info": {
   "codemirror_mode": {
    "name": "ipython",
    "version": 3
   },
   "file_extension": ".py",
   "mimetype": "text/x-python",
   "name": "python",
   "nbconvert_exporter": "python",
   "pygments_lexer": "ipython3",
   "version": "3.7.1"
  }
 },
 "nbformat": 4,
 "nbformat_minor": 2
}
